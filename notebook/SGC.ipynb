{
  "nbformat": 4,
  "nbformat_minor": 0,
  "metadata": {
    "colab": {
      "provenance": []
    },
    "kernelspec": {
      "name": "python3",
      "display_name": "Python 3"
    },
    "language_info": {
      "name": "python"
    },
    "accelerator": "GPU",
    "gpuClass": "standard"
  },
  "cells": [
    {
      "cell_type": "code",
      "source": [
        "from google.colab import drive\n",
        "drive.mount('/content/drive')"
      ],
      "metadata": {
        "colab": {
          "base_uri": "https://localhost:8080/"
        },
        "id": "PoXFkZxCzD4I",
        "outputId": "67ae4c7b-ec81-438c-e107-d136c7aa7ba9"
      },
      "execution_count": 1,
      "outputs": [
        {
          "output_type": "stream",
          "name": "stdout",
          "text": [
            "Mounted at /content/drive\n"
          ]
        }
      ]
    },
    {
      "cell_type": "code",
      "execution_count": 1,
      "metadata": {
        "colab": {
          "base_uri": "https://localhost:8080/"
        },
        "id": "5r96jWHg8xxV",
        "outputId": "5a0b425f-2c7d-47cd-d662-30884e08b3d1"
      },
      "outputs": [
        {
          "output_type": "stream",
          "name": "stdout",
          "text": [
            "Cloning into 'SGC_Lightning'...\n",
            "remote: Enumerating objects: 204, done.\u001b[K\n",
            "remote: Counting objects: 100% (204/204), done.\u001b[K\n",
            "remote: Compressing objects: 100% (137/137), done.\u001b[K\n",
            "remote: Total 204 (delta 81), reused 175 (delta 53), pack-reused 0\u001b[K\n",
            "Receiving objects: 100% (204/204), 6.22 MiB | 25.56 MiB/s, done.\n",
            "Resolving deltas: 100% (81/81), done.\n"
          ]
        }
      ],
      "source": [
        "!git clone https://github.com/chnk58hoang/SGC_Lightning.git"
      ]
    },
    {
      "cell_type": "code",
      "source": [
        "%cd SGC_Lightning\n",
        "!ls"
      ],
      "metadata": {
        "colab": {
          "base_uri": "https://localhost:8080/"
        },
        "id": "VAl25v1o-sK1",
        "outputId": "da2e45d0-095f-4670-9a04-7ea958b517c6"
      },
      "execution_count": 2,
      "outputs": [
        {
          "output_type": "stream",
          "name": "stdout",
          "text": [
            "/content/SGC_Lightning\n",
            "egs  LICENSE  README.md  requirements.txt  setup.py  sgc  static\n"
          ]
        }
      ]
    },
    {
      "cell_type": "code",
      "source": [
        "%%capture\n",
        "!pip install -e ."
      ],
      "metadata": {
        "id": "xJJs3ypk-ySN"
      },
      "execution_count": 3,
      "outputs": []
    },
    {
      "cell_type": "markdown",
      "source": [
        "Install `reddit.npz` and `reddit_adj.npz` files [here](https://github.com/matenure/FastGCN/issues/9#issuecomment-454448523) "
      ],
      "metadata": {
        "id": "Pg23Def70HD5"
      }
    },
    {
      "cell_type": "code",
      "source": [
        "%cd egs\n",
        "!cp /content/drive/MyDrive/reddit.npz /content/drive/MyDrive/reddit_adj.npz ./data/"
      ],
      "metadata": {
        "id": "bMbck4kSzWnD",
        "colab": {
          "base_uri": "https://localhost:8080/"
        },
        "outputId": "a65693c3-9179-48cc-c1c0-b2c6a048d224"
      },
      "execution_count": 5,
      "outputs": [
        {
          "output_type": "stream",
          "name": "stdout",
          "text": [
            "/content/SGC_Lightning/egs\n"
          ]
        }
      ]
    },
    {
      "cell_type": "code",
      "source": [
        "!python run.py configs/v1.yaml --lightning; echo \"\"\n",
        "# !python run.py configs/v1.yaml --lightning; echo \"\"\n",
        "# !python run.py configs/v1.yaml --lightning; echo \"\""
      ],
      "metadata": {
        "colab": {
          "base_uri": "https://localhost:8080/"
        },
        "id": "xDGVqLRp_R_N",
        "outputId": "726dc123-612b-446a-97c9-da6aa68bd329"
      },
      "execution_count": 57,
      "outputs": [
        {
          "output_type": "stream",
          "name": "stdout",
          "text": [
            "Global seed set to 42\n",
            "Using tuned weight decay: 1.3026973714043257e-05\n",
            "GPU available: True (cuda), used: False\n",
            "TPU available: False, using: 0 TPU cores\n",
            "IPU available: False, using: 0 IPUs\n",
            "HPU available: False, using: 0 HPUs\n",
            "/usr/local/lib/python3.7/dist-packages/pytorch_lightning/trainer/setup.py:178: PossibleUserWarning: GPU available but not used. Set `accelerator` and `devices` using `Trainer(accelerator='gpu', devices=1)`.\n",
            "  category=PossibleUserWarning,\n",
            "/usr/local/lib/python3.7/dist-packages/pytorch_lightning/trainer/configuration_validator.py:110: PossibleUserWarning: You defined a `validation_step` but have no `val_dataloader`. Skipping val loop.\n",
            "  category=PossibleUserWarning,\n",
            "\n",
            "  | Name  | Type | Params\n",
            "-------------------------------\n",
            "0 | model | SGC  | 10.0 K\n",
            "-------------------------------\n",
            "10.0 K    Trainable params\n",
            "0         Non-trainable params\n",
            "10.0 K    Total params\n",
            "0.040     Total estimated model params size (MB)\n",
            "/usr/local/lib/python3.7/dist-packages/pytorch_lightning/trainer/trainer.py:1599: PossibleUserWarning: The number of training batches (1) is smaller than the logging interval Trainer(log_every_n_steps=50). Set a lower value for log_every_n_steps if you want to see logs for the training epoch.\n",
            "  category=PossibleUserWarning,\n",
            "Epoch 99: 100% 1/1 [00:00<00:00, 143.81it/s, loss=0.498, v_num=39]`Trainer.fit` stopped: `max_epochs=100` reached.\n",
            "Epoch 99: 100% 1/1 [00:00<00:00, 106.32it/s, loss=0.498, v_num=39]\n",
            "Training_time:0.8796401380000134\n",
            "Testing DataLoader 0:   0% 0/1 [00:00<?, ?it/s]\n",
            "Test Acc: 0.83\n",
            "Test F1: (0.83, 0.8190214833592956)\n",
            "Testing DataLoader 0: 100% 1/1 [00:00<00:00, 229.65it/s]\n",
            "\n"
          ]
        }
      ]
    }
  ]
}